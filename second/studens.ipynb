{
 "cells": [
  {
   "cell_type": "markdown",
   "metadata": {},
   "source": [
    "# Project 2: DROP OUT CLASSIFIER\n",
    "(by: Martin Marsal, Benedikt Allmendinger, Christian Diegmann; Heilbronn University, Germany, November 2024)\n"
   ]
  },
  {
   "cell_type": "markdown",
   "metadata": {},
   "source": [
    "# Preprocessing Data\n",
    "\n",
    "- Nullen raus (braucht nochmal Diskussionsbedarf, Nullen werden bei manchen Features nämlich gebraucht)\n",
    "- Long floats kürzen auf 2te kommastelle (done)\n",
    "- Normalisieren von Daten? Daruch wird training schneller, ohne Zusammenhangsverlust\n",
    "- Biased Features raus? nö, alle wichtig\n",
    "- Ausreißer raus"
   ]
  },
  {
   "metadata": {},
   "cell_type": "code",
   "source": "import pandas as pd",
   "outputs": [],
   "execution_count": null
  },
  {
   "metadata": {},
   "cell_type": "code",
   "source": [
    "# Convert csv file to a pandas DataFrame\n",
    "df = pd.read_csv('student_data.csv')\n",
    "\n",
    "# Strip any leading/trailing spaces from column names\n",
    "df.columns = df.columns.str.strip()\n",
    "\n",
    "# Rounding to two decimal places\n",
    "df['Curricular units 2nd sem (grade)'] = df['Curricular units 2nd sem (grade)'].round(2)\n",
    "\n",
    "# Mapping the target values to level of risk:\n",
    "df['Target'] = df['Target'].map({'Dropout': 2, 'Enrolled': 1, 'Graduate': 0})\n",
    "\n",
    "# Print the DataFrame\n",
    "print(df)"
   ],
   "outputs": [],
   "execution_count": null
  },
  {
   "metadata": {},
   "cell_type": "code",
   "source": [
    "# Shuffle the DataFrame and reset the index\n",
    "shuffle_df = df.sample(frac=1, random_state=42).reset_index(drop=True)\n",
    "\n",
    "# Calculate the size of the training set (80% of the data)\n",
    "train_size = int(0.8 * len(shuffle_df))\n",
    "\n",
    "# Split the DataFrame into training and test sets\n",
    "train_df = shuffle_df.iloc[:train_size]\n",
    "test_df = shuffle_df.iloc[train_size:]\n",
    "\n",
    "# Print the training and test sets\n",
    "print(train_df)\n",
    "print(test_df)"
   ],
   "outputs": [],
   "execution_count": null
  },
  {
   "cell_type": "markdown",
   "metadata": {},
   "source": [
    "# Train at least four machine learning algorithms"
   ]
  },
  {
   "cell_type": "markdown",
   "metadata": {},
   "source": [
    "## Model 1 probabilistic"
   ]
  },
  {
   "cell_type": "code",
   "metadata": {},
   "source": [
    "# Code Cell"
   ],
   "outputs": [],
   "execution_count": null
  },
  {
   "cell_type": "markdown",
   "metadata": {},
   "source": [
    "## Model 2 tree based - B"
   ]
  },
  {
   "cell_type": "code",
   "metadata": {},
   "source": [
    "# Code Cell"
   ],
   "outputs": [],
   "execution_count": null
  },
  {
   "cell_type": "markdown",
   "metadata": {},
   "source": [
    "## Model 3 distance-based  - M"
   ]
  },
  {
   "cell_type": "code",
   "metadata": {},
   "source": [
    "# Code Cell"
   ],
   "outputs": [],
   "execution_count": null
  },
  {
   "cell_type": "markdown",
   "metadata": {},
   "source": [
    "## Model 4 Ensemble method - C"
   ]
  },
  {
   "cell_type": "code",
   "metadata": {},
   "source": [
    "# Code Cell"
   ],
   "outputs": [],
   "execution_count": null
  },
  {
   "cell_type": "markdown",
   "metadata": {},
   "source": [
    "## Discussion\n",
    "\n",
    "Are all models equally well suited for this task? Discuss your conclusion."
   ]
  },
  {
   "cell_type": "code",
   "metadata": {},
   "source": [
    "# Code Cell"
   ],
   "outputs": [],
   "execution_count": null
  },
  {
   "cell_type": "markdown",
   "metadata": {},
   "source": [
    "# Evaluation\n",
    "\n",
    "Evaluate the four models using k-fold cross validation and give at least accuracy (mean and standard deviation) and\n",
    "confusion matrix for the trained models. Is one of the models significantly better than the others?"
   ]
  },
  {
   "cell_type": "code",
   "metadata": {},
   "source": [
    "# Code Cell"
   ],
   "outputs": [],
   "execution_count": null
  },
  {
   "cell_type": "markdown",
   "metadata": {},
   "source": [
    "## Model 1 probabilistic"
   ]
  },
  {
   "cell_type": "code",
   "metadata": {},
   "source": [
    "# Code Cell"
   ],
   "outputs": [],
   "execution_count": null
  },
  {
   "cell_type": "markdown",
   "metadata": {},
   "source": [
    "## Model 2 tree based - B"
   ]
  },
  {
   "cell_type": "code",
   "metadata": {},
   "source": [
    "# Code Cell"
   ],
   "outputs": [],
   "execution_count": null
  },
  {
   "cell_type": "markdown",
   "metadata": {},
   "source": [
    "## Model 3 distance-based  - M"
   ]
  },
  {
   "cell_type": "code",
   "metadata": {},
   "source": [
    "# Code Cell"
   ],
   "outputs": [],
   "execution_count": null
  },
  {
   "cell_type": "markdown",
   "metadata": {},
   "source": [
    "## Model 4 Ensemble method - C"
   ]
  },
  {
   "cell_type": "code",
   "metadata": {},
   "source": [
    "# Code Cell"
   ],
   "outputs": [],
   "execution_count": null
  },
  {
   "cell_type": "markdown",
   "metadata": {},
   "source": [
    "# Pick your favorite model. \n",
    "Which features were most relevant for the for the students’ success?\n"
   ]
  },
  {
   "cell_type": "code",
   "metadata": {},
   "source": [
    "# Code Cell"
   ],
   "outputs": [],
   "execution_count": null
  },
  {
   "cell_type": "markdown",
   "metadata": {},
   "source": [
    "# Save your favorite model as pickle-file with https://scikit-learn.org/stable/model_persistence.html. Call the file “best_model.pkl”.\n",
    "\n",
    "\n",
    "The submission consists of two files:\n",
    "1. A Jupyter Notebook containing the preprocessing, the training, and the evaluation of\n",
    "your models.\n",
    "2. A pickle-file “best_model.pkl”"
   ]
  },
  {
   "cell_type": "code",
   "metadata": {},
   "source": [
    "# Code Cell"
   ],
   "outputs": [],
   "execution_count": null
  }
 ],
 "metadata": {
  "kernelspec": {
   "display_name": "ml_lab",
   "language": "python",
   "name": "python3"
  },
  "language_info": {
   "codemirror_mode": {
    "name": "ipython",
    "version": 3
   },
   "file_extension": ".py",
   "mimetype": "text/x-python",
   "name": "python",
   "nbconvert_exporter": "python",
   "pygments_lexer": "ipython3",
   "version": "3.10.13"
  }
 },
 "nbformat": 4,
 "nbformat_minor": 2
}
