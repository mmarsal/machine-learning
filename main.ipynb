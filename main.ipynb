{
 "cells": [
  {
   "cell_type": "code",
   "id": "initial_id",
   "metadata": {
    "collapsed": true
   },
   "source": "from naive_bayes_classifier import *",
   "outputs": [],
   "execution_count": null
  },
  {
   "metadata": {},
   "cell_type": "code",
   "source": [
    "# Convert csv file to a pandas DataFrame\n",
    "\n",
    "df = pd.read_csv('inflammation_diagnosis.csv', sep=';')\n",
    "\n",
    "df.columns = df.columns.str.strip()\n",
    "\n",
    "print(df)"
   ],
   "id": "fdbf0ca8934a0c24",
   "outputs": [],
   "execution_count": null
  },
  {
   "metadata": {},
   "cell_type": "code",
   "source": [
    "# Create 'disease' column and drop the other two columns\n",
    "\n",
    "df['inflammation'] = df['inflammation'].map({'yes': True, 'no': False})\n",
    "df['nephritis'] = df['nephritis'].map({'yes': True, 'no': False})\n",
    "\n",
    "df['disease'] = df['inflammation'] | df['nephritis']\n",
    "\n",
    "df = df.drop(columns=['inflammation', 'nephritis'])\n",
    "\n",
    "df_complete = df\n",
    "\n",
    "df_complete = df_complete.drop(columns=['disease'])\n",
    "\n",
    "print(df_complete)"
   ],
   "id": "61c811186c661a6e",
   "outputs": [],
   "execution_count": null
  },
  {
   "metadata": {},
   "cell_type": "code",
   "source": [
    "# Create 'continuous' array\n",
    "\n",
    "continuous = []\n",
    "\n",
    "for column in df.columns[:-1]: # Iterate over every column except the label column\n",
    "    first_value = df[column].iloc[0]\n",
    "    if first_value == 'yes' or first_value == 'no': # If discrete value\n",
    "        continuous.append(False)\n",
    "    else: # If continuous value\n",
    "        continuous.append(True)\n",
    "        \n",
    "print(continuous)"
   ],
   "id": "a902ab1fcbec5b11",
   "outputs": [],
   "execution_count": null
  },
  {
   "metadata": {},
   "cell_type": "code",
   "source": [
    "# Randomize the dataframe's sample and split it into train and test set\n",
    "\n",
    "shuffle_df = df.sample(frac=1, random_state=42).reset_index(drop=True)\n",
    "\n",
    "train_size = int(0.8 * len(shuffle_df))\n",
    "\n",
    "train_df = shuffle_df.iloc[:train_size]\n",
    "test_df = shuffle_df.iloc[train_size:]\n",
    "\n",
    "print(train_df)\n",
    "print(test_df)"
   ],
   "id": "614a221df778bc0e",
   "outputs": [],
   "execution_count": null
  },
  {
   "metadata": {},
   "cell_type": "code",
   "source": [
    "# Instantiate the NaiveBayes class\n",
    "\n",
    "naive_bayes = NaiveBayes(continuous)"
   ],
   "id": "1671dc316eb4710b",
   "outputs": [],
   "execution_count": null
  },
  {
   "metadata": {},
   "cell_type": "code",
   "source": [
    "target_name = \"disease\"\n",
    "naive_bayes.fit(train_df, target_name)"
   ],
   "id": "674c4bcd0cb1100d",
   "outputs": [],
   "execution_count": null
  },
  {
   "metadata": {},
   "cell_type": "code",
   "source": "print(naive_bayes.priors)",
   "id": "265c6ddaed1afa93",
   "outputs": [],
   "execution_count": null
  },
  {
   "metadata": {},
   "cell_type": "code",
   "source": "print(naive_bayes.likelihoods)",
   "id": "91ad0d004937cdb3",
   "outputs": [],
   "execution_count": null
  },
  {
   "metadata": {},
   "cell_type": "code",
   "source": "print(naive_bayes.gaussian_parameters)",
   "id": "c729dd57d99e9c72",
   "outputs": [],
   "execution_count": null
  },
  {
   "metadata": {},
   "cell_type": "code",
   "source": "naive_bayes.predict_probability(df_complete)",
   "id": "d3731ec37465d38f",
   "outputs": [],
   "execution_count": null
  }
 ],
 "metadata": {
  "kernelspec": {
   "display_name": "Python 3",
   "language": "python",
   "name": "python3"
  },
  "language_info": {
   "codemirror_mode": {
    "name": "ipython",
    "version": 2
   },
   "file_extension": ".py",
   "mimetype": "text/x-python",
   "name": "python",
   "nbconvert_exporter": "python",
   "pygments_lexer": "ipython2",
   "version": "2.7.6"
  }
 },
 "nbformat": 4,
 "nbformat_minor": 5
}
