{
 "cells": [
  {
   "cell_type": "markdown",
   "id": "0049fdb5",
   "metadata": {},
   "source": [
    "# Digit Recognition Karas\n",
    "(by: Usere Namen, Heilbronn University, Germany, October 2024) \n",
    "\n",
    "In this notebook we will build... (Description)\n"
   ]
  },
  {
   "cell_type": "markdown",
   "id": "e94dadde",
   "metadata": {},
   "source": [
    "### Import Naive Bayes Classifier implementation"
   ]
  },
  {
   "cell_type": "code",
   "execution_count": 53,
   "id": "64868c6a",
   "metadata": {},
   "outputs": [],
   "source": [
    "from naive_bayes_classifier import *"
   ]
  },
  {
   "cell_type": "markdown",
   "id": "a302a41a",
   "metadata": {},
   "source": [
    "### Convert CSV File to a Pandas DataFrame\n",
    "\n",
    "In this step, we load a CSV file into a Pandas DataFrame using the `pd.read_csv()` function. We specify the delimiter as a semicolon (`;`) since the CSV file is separated by semicolons. After loading the data, we strip any leading or trailing whitespace from the column names using the `str.strip()` method to ensure clean headers. Finally, we print the DataFrame to verify the contents.\n"
   ]
  },
  {
   "cell_type": "code",
   "execution_count": 54,
   "id": "fdbf0ca8934a0c24",
   "metadata": {},
   "outputs": [
    {
     "name": "stdout",
     "output_type": "stream",
     "text": [
      "     temperature nausea lumbar_pain urine_pushing micturition_pains  \\\n",
      "0           35.5     no         yes            no                no   \n",
      "1           35.9     no          no           yes               yes   \n",
      "2           35.9     no         yes            no                no   \n",
      "3           36.0     no          no           yes               yes   \n",
      "4           36.0     no         yes            no                no   \n",
      "..           ...    ...         ...           ...               ...   \n",
      "115         41.4     no         yes           yes                no   \n",
      "116         41.5     no          no            no                no   \n",
      "117         41.5    yes         yes            no               yes   \n",
      "118         41.5     no         yes           yes                no   \n",
      "119         41.5     no         yes           yes                no   \n",
      "\n",
      "    burning_of_urethra inflammation nephritis  \n",
      "0                   no           no        no  \n",
      "1                  yes          yes        no  \n",
      "2                   no           no        no  \n",
      "3                  yes          yes        no  \n",
      "4                   no           no        no  \n",
      "..                 ...          ...       ...  \n",
      "115                yes           no       yes  \n",
      "116                 no           no        no  \n",
      "117                 no           no       yes  \n",
      "118                yes           no       yes  \n",
      "119                yes           no       yes  \n",
      "\n",
      "[120 rows x 8 columns]\n"
     ]
    }
   ],
   "source": [
    "# Convert csv file to a pandas DataFrame\n",
    "df = pd.read_csv('inflammation_diagnosis.csv', sep=';')\n",
    "\n",
    "# Strip any leading/trailing spaces from column names\n",
    "df.columns = df.columns.str.strip()\n",
    "\n",
    "# Print the DataFrame\n",
    "print(df)"
   ]
  },
  {
   "cell_type": "markdown",
   "id": "819db6d3",
   "metadata": {},
   "source": [
    "### Create 'disease' Column and Drop Unnecessary Columns\n",
    "\n",
    "We begin by mapping the values of the 'inflammation' and 'nephritis' columns from 'yes'/'no' to `True`/`False`. Then, we define a function `classify_disease()` that categorizes each row into 'very sick', 'sick', or 'healthy' based on the values of 'inflammation' and 'nephritis'. This function is applied to each row of the DataFrame to create a new 'disease' column.\n",
    "\n",
    "Afterward, the original 'inflammation' and 'nephritis' columns are dropped, leaving us with the 'disease' column. Finally, the 'disease' column is also dropped to create a `df_complete` DataFrame, which is printed at the end."
   ]
  },
  {
   "cell_type": "code",
   "execution_count": 55,
   "id": "61c811186c661a6e",
   "metadata": {},
   "outputs": [
    {
     "name": "stdout",
     "output_type": "stream",
     "text": [
      "     temperature nausea lumbar_pain urine_pushing micturition_pains  \\\n",
      "0           35.5     no         yes            no                no   \n",
      "1           35.9     no          no           yes               yes   \n",
      "2           35.9     no         yes            no                no   \n",
      "3           36.0     no          no           yes               yes   \n",
      "4           36.0     no         yes            no                no   \n",
      "..           ...    ...         ...           ...               ...   \n",
      "115         41.4     no         yes           yes                no   \n",
      "116         41.5     no          no            no                no   \n",
      "117         41.5    yes         yes            no               yes   \n",
      "118         41.5     no         yes           yes                no   \n",
      "119         41.5     no         yes           yes                no   \n",
      "\n",
      "    burning_of_urethra  \n",
      "0                   no  \n",
      "1                  yes  \n",
      "2                   no  \n",
      "3                  yes  \n",
      "4                   no  \n",
      "..                 ...  \n",
      "115                yes  \n",
      "116                 no  \n",
      "117                 no  \n",
      "118                yes  \n",
      "119                yes  \n",
      "\n",
      "[120 rows x 6 columns]\n"
     ]
    }
   ],
   "source": [
    "# Map 'yes'/'no' to True/False for inflammation and nephritis columns\n",
    "df['inflammation'] = df['inflammation'].map({'yes': True, 'no': False})\n",
    "df['nephritis'] = df['nephritis'].map({'yes': True, 'no': False})\n",
    "\n",
    "# Function to classify disease\n",
    "def classify_disease(row):\n",
    "    if row['inflammation'] and row['nephritis']:  # Both inflammation and nephritis are True\n",
    "        return 'very sick'\n",
    "    elif row['inflammation'] or row['nephritis']:  # One of them is True\n",
    "        return 'sick'\n",
    "    else:\n",
    "        return 'healthy'\n",
    "\n",
    "# Apply classification function to each row\n",
    "df['disease'] = df.apply(classify_disease, axis=1)\n",
    "\n",
    "# Drop the 'inflammation' and 'nephritis' columns\n",
    "df = df.drop(columns=['inflammation', 'nephritis'])\n",
    "\n",
    "# Create the df_complete by dropping the 'disease' column as well\n",
    "df_complete = df.drop(columns=['disease'])\n",
    "\n",
    "# Print the final DataFrame\n",
    "print(df_complete)\n"
   ]
  },
  {
   "cell_type": "markdown",
   "id": "c612a84b",
   "metadata": {},
   "source": [
    "### Create 'continuous' Array\n",
    "\n",
    "In this step, we generate a `continuous` array that indicates whether each column in the DataFrame contains continuous or discrete values. We iterate over every column in the DataFrame, excluding the label column, and check the first value of each column. If the value is 'yes' or 'no', we treat it as a discrete column, and append `False` to the `continuous` array. Otherwise, we assume the column contains continuous data and append `True`.\n"
   ]
  },
  {
   "cell_type": "code",
   "execution_count": 56,
   "id": "a902ab1fcbec5b11",
   "metadata": {},
   "outputs": [
    {
     "name": "stdout",
     "output_type": "stream",
     "text": [
      "[True, False, False, False, False, False]\n"
     ]
    }
   ],
   "source": [
    "# Initialize the 'continuous' array\n",
    "continuous = []\n",
    "\n",
    "# Iterate over every column except the label column\n",
    "for column in df.columns[:-1]:  \n",
    "    first_value = df[column].iloc[0]\n",
    "    \n",
    "    # Check if the first value is discrete (yes/no)\n",
    "    if first_value == 'yes' or first_value == 'no':\n",
    "        continuous.append(False)\n",
    "    else:  # Otherwise, it's continuous\n",
    "        continuous.append(True)\n",
    "        \n",
    "# Print the 'continuous' array\n",
    "print(continuous)"
   ]
  },
  {
   "cell_type": "markdown",
   "id": "386e9850",
   "metadata": {},
   "source": [
    "### Randomize DataFrame and Split into Train and Test Sets\n",
    "\n",
    "In this step, we shuffle the DataFrame using the `sample()` method with a fraction of `1` to randomize the entire dataset. We set the `random_state` to ensure reproducibility of the shuffle. After shuffling, the DataFrame is split into an 80% training set and a 20% test set. The training set is extracted from the first 80% of the shuffled DataFrame, and the test set is from the remaining 20%. Both sets are then printed to verify the split.\n"
   ]
  },
  {
   "cell_type": "code",
   "execution_count": 57,
   "id": "614a221df778bc0e",
   "metadata": {},
   "outputs": [
    {
     "name": "stdout",
     "output_type": "stream",
     "text": [
      "    temperature nausea lumbar_pain urine_pushing micturition_pains  \\\n",
      "0          37.5     no          no           yes                no   \n",
      "1          37.6     no          no           yes               yes   \n",
      "2          36.0     no         yes            no                no   \n",
      "3          37.9     no          no           yes               yes   \n",
      "4          37.0     no          no           yes               yes   \n",
      "..          ...    ...         ...           ...               ...   \n",
      "91         37.2     no         yes            no                no   \n",
      "92         41.2    yes         yes            no               yes   \n",
      "93         37.9     no          no           yes                no   \n",
      "94         38.3     no         yes           yes                no   \n",
      "95         41.1    yes         yes           yes               yes   \n",
      "\n",
      "   burning_of_urethra    disease  \n",
      "0                  no       sick  \n",
      "1                 yes       sick  \n",
      "2                  no    healthy  \n",
      "3                  no       sick  \n",
      "4                 yes       sick  \n",
      "..                ...        ...  \n",
      "91                 no    healthy  \n",
      "92                 no       sick  \n",
      "93                 no       sick  \n",
      "94                yes       sick  \n",
      "95                yes  very sick  \n",
      "\n",
      "[96 rows x 7 columns]\n",
      "     temperature nausea lumbar_pain urine_pushing micturition_pains  \\\n",
      "96          37.4     no         yes            no                no   \n",
      "97          37.1     no          no           yes               yes   \n",
      "98          41.4     no         yes           yes                no   \n",
      "99          35.9     no          no           yes               yes   \n",
      "100         37.8     no         yes            no                no   \n",
      "101         37.0     no          no           yes               yes   \n",
      "102         35.9     no         yes            no                no   \n",
      "103         37.0     no          no           yes               yes   \n",
      "104         41.0    yes         yes            no               yes   \n",
      "105         40.9    yes         yes           yes               yes   \n",
      "106         40.4    yes         yes            no               yes   \n",
      "107         41.1    yes         yes            no               yes   \n",
      "108         40.0     no          no            no                no   \n",
      "109         40.4     no          no            no                no   \n",
      "110         40.3     no         yes           yes                no   \n",
      "111         41.5     no         yes           yes                no   \n",
      "112         37.0     no          no           yes               yes   \n",
      "113         38.0     no         yes           yes                no   \n",
      "114         40.0    yes         yes           yes               yes   \n",
      "115         41.1    yes         yes           yes               yes   \n",
      "116         36.7     no         yes            no                no   \n",
      "117         40.7    yes         yes           yes               yes   \n",
      "118         37.7     no          no           yes                no   \n",
      "119         41.0     no          no            no                no   \n",
      "\n",
      "    burning_of_urethra    disease  \n",
      "96                  no    healthy  \n",
      "97                 yes       sick  \n",
      "98                 yes       sick  \n",
      "99                 yes       sick  \n",
      "100                 no    healthy  \n",
      "101                 no       sick  \n",
      "102                 no    healthy  \n",
      "103                yes       sick  \n",
      "104                 no       sick  \n",
      "105                 no  very sick  \n",
      "106                 no       sick  \n",
      "107                 no       sick  \n",
      "108                 no    healthy  \n",
      "109                 no    healthy  \n",
      "110                yes       sick  \n",
      "111                yes       sick  \n",
      "112                 no       sick  \n",
      "113                yes       sick  \n",
      "114                yes  very sick  \n",
      "115                 no  very sick  \n",
      "116                 no    healthy  \n",
      "117                yes  very sick  \n",
      "118                 no       sick  \n",
      "119                 no    healthy  \n"
     ]
    }
   ],
   "source": [
    "# Shuffle the DataFrame and reset the index\n",
    "shuffle_df = df.sample(frac=1, random_state=42).reset_index(drop=True)\n",
    "\n",
    "# Calculate the size of the training set (80% of the data)\n",
    "train_size = int(0.8 * len(shuffle_df))\n",
    "\n",
    "# Split the DataFrame into training and test sets\n",
    "train_df = shuffle_df.iloc[:train_size]\n",
    "test_df = shuffle_df.iloc[train_size:]\n",
    "\n",
    "# Print the training and test sets\n",
    "print(train_df)\n",
    "print(test_df)"
   ]
  },
  {
   "cell_type": "markdown",
   "id": "5dd7e45e",
   "metadata": {},
   "source": [
    "### Instantiate the NaiveBayes Class\n",
    "\n",
    "In this step, we instantiate the `NaiveBayes` class, which will be used to perform classification. The constructor takes in the `continuous` array, which specifies which features in the dataset are continuous or discrete. This information is essential for the Naive Bayes classifier to handle the different types of data appropriately.\n"
   ]
  },
  {
   "cell_type": "code",
   "execution_count": 58,
   "id": "1671dc316eb4710b",
   "metadata": {},
   "outputs": [],
   "source": [
    "# Instantiate the NaiveBayes class, passing the continuous array\n",
    "naive_bayes = NaiveBayes(continuous)"
   ]
  },
  {
   "cell_type": "markdown",
   "id": "9c7f7c27",
   "metadata": {},
   "source": [
    "### Fit the NaiveBayes Classifier to the Training Data\n",
    "\n",
    "We now fit the `NaiveBayes` classifier to the training dataset. The `fit()` method takes the training DataFrame (`train_df`) and the target column name (`\"disease\"`), which contains the labels we are trying to predict. This step trains the model by learning the underlying patterns and relationships between the features and the target variable.\n"
   ]
  },
  {
   "cell_type": "code",
   "execution_count": 59,
   "id": "674c4bcd0cb1100d",
   "metadata": {},
   "outputs": [],
   "source": [
    "# Define the target column name\n",
    "target_name = \"disease\"\n",
    "\n",
    "# Fit the NaiveBayes classifier on the training data\n",
    "naive_bayes.fit(train_df, target_name)"
   ]
  },
  {
   "cell_type": "code",
   "execution_count": 60,
   "id": "265c6ddaed1afa93",
   "metadata": {},
   "outputs": [
    {
     "name": "stdout",
     "output_type": "stream",
     "text": [
      "{'healthy': 0.23958333333333334, 'sick': 0.6041666666666666, 'very sick': 0.15625}\n"
     ]
    }
   ],
   "source": [
    "print(naive_bayes.priors)"
   ]
  },
  {
   "cell_type": "code",
   "execution_count": 61,
   "id": "91ad0d004937cdb3",
   "metadata": {},
   "outputs": [
    {
     "name": "stdout",
     "output_type": "stream",
     "text": [
      "{'nausea': {'healthy': {'no': 1.0, 'yes': 0.0}, 'sick': {'no': 0.8793103448275862, 'yes': 0.1206896551724138}, 'very sick': {'no': 0.0, 'yes': 1.0}}, 'lumbar_pain': {'healthy': {'no': 0.30434782608695654, 'yes': 0.6956521739130435}, 'sick': {'no': 0.5862068965517241, 'yes': 0.41379310344827586}, 'very sick': {'no': 0.0, 'yes': 1.0}}, 'urine_pushing': {'healthy': {'no': 1.0, 'yes': 0.0}, 'sick': {'no': 0.1206896551724138, 'yes': 0.8793103448275862}, 'very sick': {'no': 0.0, 'yes': 1.0}}, 'micturition_pains': {'healthy': {'no': 1.0, 'yes': 0.0}, 'sick': {'no': 0.4482758620689655, 'yes': 0.5517241379310345}, 'very sick': {'no': 0.0, 'yes': 1.0}}, 'burning_of_urethra': {'healthy': {'no': 1.0, 'yes': 0.0}, 'sick': {'no': 0.41379310344827586, 'yes': 0.5862068965517241}, 'very sick': {'no': 0.5333333333333333, 'yes': 0.4666666666666667}}}\n"
     ]
    }
   ],
   "source": [
    "print(naive_bayes.likelihoods)"
   ]
  },
  {
   "cell_type": "code",
   "execution_count": 62,
   "id": "c729dd57d99e9c72",
   "metadata": {},
   "outputs": [
    {
     "name": "stdout",
     "output_type": "stream",
     "text": [
      "{'temperature': {'healthy': {'mean': 38.04347826086956, 'std': 1.9399686236817273}, 'sick': {'mean': 38.37586206896552, 'std': 1.6024444424589497}, 'very sick': {'mean': 40.586666666666666, 'std': 0.4323799035019782}}}\n"
     ]
    }
   ],
   "source": [
    "print(naive_bayes.gaussian_parameters)"
   ]
  },
  {
   "cell_type": "markdown",
   "id": "a5c10a83",
   "metadata": {},
   "source": [
    "### Predict Probabilities with NaiveBayes Classifier\n",
    "\n",
    "After fitting the model, we can use the `predict_probability()` method to estimate the probability distribution of the target variable for each instance in the dataset. Here, we pass the `df_complete` DataFrame (which contains the features but not the target column) to the method to generate these probability predictions.\n"
   ]
  },
  {
   "cell_type": "code",
   "execution_count": 63,
   "id": "d3731ec37465d38f",
   "metadata": {},
   "outputs": [
    {
     "data": {
      "text/html": [
       "<div>\n",
       "<style scoped>\n",
       "    .dataframe tbody tr th:only-of-type {\n",
       "        vertical-align: middle;\n",
       "    }\n",
       "\n",
       "    .dataframe tbody tr th {\n",
       "        vertical-align: top;\n",
       "    }\n",
       "\n",
       "    .dataframe thead th {\n",
       "        text-align: right;\n",
       "    }\n",
       "</style>\n",
       "<table border=\"1\" class=\"dataframe\">\n",
       "  <thead>\n",
       "    <tr style=\"text-align: right;\">\n",
       "      <th></th>\n",
       "      <th>healthy</th>\n",
       "      <th>sick</th>\n",
       "      <th>very sick</th>\n",
       "      <th>Prediction</th>\n",
       "    </tr>\n",
       "  </thead>\n",
       "  <tbody>\n",
       "    <tr>\n",
       "      <th>0</th>\n",
       "      <td>9.834096e-01</td>\n",
       "      <td>0.016590</td>\n",
       "      <td>5.647434e-24</td>\n",
       "      <td>healthy</td>\n",
       "    </tr>\n",
       "    <tr>\n",
       "      <th>1</th>\n",
       "      <td>1.218492e-18</td>\n",
       "      <td>1.000000</td>\n",
       "      <td>1.090936e-17</td>\n",
       "      <td>sick</td>\n",
       "    </tr>\n",
       "    <tr>\n",
       "      <th>2</th>\n",
       "      <td>9.804388e-01</td>\n",
       "      <td>0.019561</td>\n",
       "      <td>4.389005e-24</td>\n",
       "      <td>healthy</td>\n",
       "    </tr>\n",
       "    <tr>\n",
       "      <th>3</th>\n",
       "      <td>1.172068e-18</td>\n",
       "      <td>1.000000</td>\n",
       "      <td>9.925933e-18</td>\n",
       "      <td>sick</td>\n",
       "    </tr>\n",
       "    <tr>\n",
       "      <th>4</th>\n",
       "      <td>9.796798e-01</td>\n",
       "      <td>0.020320</td>\n",
       "      <td>4.148316e-24</td>\n",
       "      <td>healthy</td>\n",
       "    </tr>\n",
       "    <tr>\n",
       "      <th>...</th>\n",
       "      <td>...</td>\n",
       "      <td>...</td>\n",
       "      <td>...</td>\n",
       "      <td>...</td>\n",
       "    </tr>\n",
       "    <tr>\n",
       "      <th>115</th>\n",
       "      <td>3.600353e-12</td>\n",
       "      <td>1.000000</td>\n",
       "      <td>5.381944e-12</td>\n",
       "      <td>sick</td>\n",
       "    </tr>\n",
       "    <tr>\n",
       "      <th>116</th>\n",
       "      <td>9.219734e-01</td>\n",
       "      <td>0.078027</td>\n",
       "      <td>2.483593e-24</td>\n",
       "      <td>healthy</td>\n",
       "    </tr>\n",
       "    <tr>\n",
       "      <th>117</th>\n",
       "      <td>2.264332e-10</td>\n",
       "      <td>0.999733</td>\n",
       "      <td>2.668598e-04</td>\n",
       "      <td>sick</td>\n",
       "    </tr>\n",
       "    <tr>\n",
       "      <th>118</th>\n",
       "      <td>3.707038e-12</td>\n",
       "      <td>1.000000</td>\n",
       "      <td>3.822768e-12</td>\n",
       "      <td>sick</td>\n",
       "    </tr>\n",
       "    <tr>\n",
       "      <th>119</th>\n",
       "      <td>3.707038e-12</td>\n",
       "      <td>1.000000</td>\n",
       "      <td>3.822768e-12</td>\n",
       "      <td>sick</td>\n",
       "    </tr>\n",
       "  </tbody>\n",
       "</table>\n",
       "<p>120 rows × 4 columns</p>\n",
       "</div>"
      ],
      "text/plain": [
       "          healthy      sick     very sick Prediction\n",
       "0    9.834096e-01  0.016590  5.647434e-24    healthy\n",
       "1    1.218492e-18  1.000000  1.090936e-17       sick\n",
       "2    9.804388e-01  0.019561  4.389005e-24    healthy\n",
       "3    1.172068e-18  1.000000  9.925933e-18       sick\n",
       "4    9.796798e-01  0.020320  4.148316e-24    healthy\n",
       "..            ...       ...           ...        ...\n",
       "115  3.600353e-12  1.000000  5.381944e-12       sick\n",
       "116  9.219734e-01  0.078027  2.483593e-24    healthy\n",
       "117  2.264332e-10  0.999733  2.668598e-04       sick\n",
       "118  3.707038e-12  1.000000  3.822768e-12       sick\n",
       "119  3.707038e-12  1.000000  3.822768e-12       sick\n",
       "\n",
       "[120 rows x 4 columns]"
      ]
     },
     "execution_count": 63,
     "metadata": {},
     "output_type": "execute_result"
    }
   ],
   "source": [
    "# Predict the probabilities for each instance in df_complete\n",
    "naive_bayes.predict_probability(df_complete)"
   ]
  },
  {
   "cell_type": "markdown",
   "id": "29729c29",
   "metadata": {},
   "source": [
    "### Separate the Last Column and Evaluate the NaiveBayes Classifier\n",
    "\n",
    "In this step, we separate the last column of the test set into two parts: `test_data`, which contains the feature columns, and `test_labels`, which contains the true labels for the test set. We then evaluate the performance of the NaiveBayes classifier using the `evaluate_on_data()` method. This method compares the model’s predictions to the actual labels in the test set and provides an evaluation metric."
   ]
  },
  {
   "cell_type": "code",
   "execution_count": 64,
   "id": "305ca3ba23d13bce",
   "metadata": {},
   "outputs": [
    {
     "name": "stdout",
     "output_type": "stream",
     "text": [
      "Accuracy of the NaiveBayes classifier: 100.00%\n",
      "Confusion Matrix:\n",
      "[[7, 0, 0], [0, 13, 0], [0, 0, 4]]\n"
     ]
    }
   ],
   "source": [
    "# Separate the features and labels in the test set\n",
    "test_data = test_df.iloc[:, :-1]  # All columns except the last\n",
    "test_labels = test_df.iloc[:, -1]  # The last column (target)\n",
    "\n",
    "# Evaluate the NaiveBayes classifier and store the accuracy\n",
    "accuracy, confusion_matrix = naive_bayes.evaluate_on_data(test_data, test_labels)\n",
    "\n",
    "# Print the accuracy\n",
    "print(f\"Accuracy of the NaiveBayes classifier: {accuracy * 100:.2f}%\")\n",
    "\n",
    "# Print the confusion matrix\n",
    "print(\"Confusion Matrix:\")\n",
    "print(confusion_matrix)"
   ]
  },
  {
   "cell_type": "markdown",
   "id": "6613f0fd",
   "metadata": {},
   "source": [
    "### Visualize Data with Matplotlib\n",
    "\n",
    "To gain more insight into the data, we will visualize it using `matplotlib`. We will create a bar plot that shows the distribution of the predicted disease categories for the test data. This visualization will help us understand how the classifier's predictions are distributed across the different disease classes."
   ]
  },
  {
   "cell_type": "code",
   "execution_count": 67,
   "id": "4b925e84",
   "metadata": {},
   "outputs": [
    {
     "data": {
      "image/png": "[encoded data removed]",
      "text/plain": [
       "<Figure size 800x600 with 1 Axes>"
      ]
     },
     "metadata": {},
     "output_type": "display_data"
    }
   ],
   "source": [
    "import matplotlib.pyplot as plt\n",
    "import numpy as np\n",
    "\n",
    "# Use predict_probability to get predictions and probabilities\n",
    "results = naive_bayes.predict_probability(test_data)\n",
    "\n",
    "# Extract the predicted labels from the 'Prediction' column\n",
    "predicted_labels = results['Prediction']\n",
    "\n",
    "# Count the occurrences of each unique label in the predicted labels\n",
    "unique_labels, counts = np.unique(predicted_labels, return_counts=True)\n",
    "\n",
    "# Create a bar chart to visualize the distribution of predicted labels\n",
    "plt.figure(figsize=(8, 6))\n",
    "plt.bar(unique_labels, counts, color='skyblue', edgecolor='black')\n",
    "\n",
    "# Add titles and labels\n",
    "plt.title('Distribution of Predicted Disease Labels', fontsize=16)\n",
    "plt.xlabel('Disease Category', fontsize=14)\n",
    "plt.ylabel('Frequency', fontsize=14)\n",
    "\n",
    "# Show the plot\n",
    "plt.show()\n"
   ]
  }
 ],
 "metadata": {
  "kernelspec": {
   "display_name": "Python 3",
   "language": "python",
   "name": "python3"
  },
  "language_info": {
   "codemirror_mode": {
    "name": "ipython",
    "version": 2
   },
   "file_extension": ".py",
   "mimetype": "text/x-python",
   "name": "python",
   "nbconvert_exporter": "python",
   "pygments_lexer": "ipython2",
   "version": "2.7.6"
  }
 },
 "nbformat": 4,
 "nbformat_minor": 5
}
