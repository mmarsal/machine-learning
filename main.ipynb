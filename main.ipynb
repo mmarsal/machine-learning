{
 "cells": [
  {
   "cell_type": "code",
   "id": "initial_id",
   "metadata": {
    "collapsed": true
   },
   "source": [
    "from naive_bayes_classifier import *\n",
    "\n",
    "continuous = [True, False, False, False, False, False, False, False]\n",
    "\n",
    "naive_bayes = NaiveBayes(continuous)"
   ],
   "outputs": [],
   "execution_count": null
  },
  {
   "metadata": {},
   "cell_type": "code",
   "source": [
    "df = pd.read_csv('inflammation_diagnosis.csv', sep=';')\n",
    "\n",
    "df.columns = df.columns.str.strip()\n",
    "\n",
    "print(df)"
   ],
   "id": "fdbf0ca8934a0c24",
   "outputs": [],
   "execution_count": null
  },
  {
   "metadata": {},
   "cell_type": "code",
   "source": [
    "# Create 'disease' column\n",
    "\n",
    "df['inflammation'] = df['inflammation'].map({'yes': True, 'no': False})\n",
    "df['nephritis'] = df['nephritis'].map({'yes': True, 'no': False})\n",
    "\n",
    "df['disease'] = df['inflammation'] | df['nephritis']\n",
    "\n",
    "df = df.drop(columns=['inflammation', 'nephritis'])\n",
    "\n",
    "print(df)"
   ],
   "id": "61c811186c661a6e",
   "outputs": [],
   "execution_count": null
  },
  {
   "metadata": {},
   "cell_type": "code",
   "source": [
    "# Split DataFrame into train and test set\n",
    "\n",
    "shuffle_df = df.sample(frac=1, random_state=42).reset_index(drop=True)\n",
    "\n",
    "train_size = int(0.8 * len(shuffle_df))\n",
    "\n",
    "train_df = shuffle_df.iloc[:train_size]\n",
    "test_df = shuffle_df.iloc[train_size:]\n",
    "\n",
    "print(train_df)\n",
    "print(test_df)"
   ],
   "id": "614a221df778bc0e",
   "outputs": [],
   "execution_count": null
  }
 ],
 "metadata": {
  "kernelspec": {
   "display_name": "Python 3",
   "language": "python",
   "name": "python3"
  },
  "language_info": {
   "codemirror_mode": {
    "name": "ipython",
    "version": 2
   },
   "file_extension": ".py",
   "mimetype": "text/x-python",
   "name": "python",
   "nbconvert_exporter": "python",
   "pygments_lexer": "ipython2",
   "version": "2.7.6"
  }
 },
 "nbformat": 4,
 "nbformat_minor": 5
}
