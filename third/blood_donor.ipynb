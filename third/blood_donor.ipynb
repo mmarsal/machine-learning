{
 "cells": [
  {
   "metadata": {},
   "cell_type": "markdown",
   "source": [
    "# Project 3: Blood Donor Classification\n",
    "(by: Martin Marsal, Benedikt Allmendinger, Christian Diegmann; Heilbronn University, Germany, January 2025)"
   ],
   "id": "715e29004ced62fc"
  },
  {
   "metadata": {},
   "cell_type": "markdown",
   "source": [
    "## 0. Preperation\n",
    "First, get to know the dataset and deal with missing values.\n",
    "- Perform an exploratory data analysis to get to know the data set\n",
    "- Preprocess the data. If there are missing values, impute them.\n",
    "- Estimate the accuracy of your imputation for each feature"
   ],
   "id": "1a786bcb66498cdd"
  },
  {
   "metadata": {},
   "cell_type": "code",
   "source": [
    "import pandas as pd\n",
    "from sklearn.impute import KNNImputer"
   ],
   "id": "f1e5e2d5bbacb547",
   "outputs": [],
   "execution_count": null
  },
  {
   "metadata": {},
   "cell_type": "code",
   "source": [
    "# Read the CSV file into a DataFrame\n",
    "df = pd.read_csv('hemodat.csv')\n",
    "\n",
    "# Strip any leading/trailing spaces from column names\n",
    "df.columns = df.columns.str.strip()\n",
    "\n",
    "# Calculate the number of missing values for each feature\n",
    "missing_values = df.isnull().sum()\n",
    "\n",
    "# Output the count of missing values for each feature\n",
    "print(\"Missing values per feature:\")\n",
    "for feature, missing_count in missing_values.items():\n",
    "    print(f\"{feature}: {missing_count}\")"
   ],
   "id": "5c440720cb4ac4fc",
   "outputs": [],
   "execution_count": null
  },
  {
   "metadata": {},
   "cell_type": "code",
   "source": [
    "# Define the KNN imputer\n",
    "knn_imputer = KNNImputer(n_neighbors=5, weights='uniform')\n",
    "\n",
    "# Apply KNN imputer to the DataFrame\n",
    "numerical_columns = df.select_dtypes(include=['number']).columns\n",
    "df[numerical_columns] = knn_imputer.fit_transform(df[numerical_columns])\n",
    "\n",
    "# Check if all null values are imputed\n",
    "foundNull = df.isnull().values.any()\n",
    "if foundNull:\n",
    "    raise TypeError('Found null value in DataFrame.')\n",
    "\n",
    "# Output the cleaned DataFrame\n",
    "print(\"DataFrame after KNN imputation:\")\n",
    "print(df)"
   ],
   "id": "95045ed7f537819a",
   "outputs": [],
   "execution_count": null
  },
  {
   "metadata": {},
   "cell_type": "markdown",
   "source": [
    "## 1. Anomaly Detection\n",
    "Since medical conditions that lead to the rejection of a donor are rare (luckily) and can be very\n",
    "versatile. It is near impossible to categorize every possible condition. Hence, it would be useful to have an anomaly\n",
    "detection algorithm in place as a safety mechanism to detect suspicious blood samples for further testing.\n",
    "- Train an anomaly detection model based only on valid blood donors without a medical condition.\n",
    "- Evaluate the accuracy of your anomaly detection by testing it also on donors with a medical condition.\n",
    "- Perform a PCA to visualize the true / false positive and true / false negative predictions as well as the decision\n",
    "boundary of your anomaly detection. How much variance is explained by the first two main components? "
   ],
   "id": "d7f9fd9a8724a94b"
  },
  {
   "metadata": {},
   "cell_type": "code",
   "source": "",
   "id": "69e436d536523b8",
   "outputs": [],
   "execution_count": null
  },
  {
   "metadata": {},
   "cell_type": "markdown",
   "source": [
    "## 2. Explainable Model\n",
    "For your decision support your model should be explainable. Train a model with a focus on\n",
    "explainability with an as simple as possible structure while still maintaining its predictive power.\n",
    "- Train a decision tree classifier on the imputed data. Evaluate your model’s accuracy and visualize the tree structure to\n",
    "help the hospital personal understand the decision process. Each inference should not only put out the class, but also\n",
    "the decision path taken. Make the tree as simple and understandable as possible."
   ],
   "id": "aa5c964496020d22"
  },
  {
   "metadata": {},
   "cell_type": "code",
   "source": "",
   "id": "f8f169f92c70d7c7",
   "outputs": [],
   "execution_count": null
  },
  {
   "metadata": {},
   "cell_type": "markdown",
   "source": [
    "## 3. High Performance Model\n",
    "This time the focus is on predictive power. Try and train a more accurate model. Is it worth\n",
    "the effort?\n",
    "- Train and optimize an XGBoost classifier on the imputed data.\n",
    "- Use SHAP local explanation techniques on 5 selected data points and discuss the results\n",
    "- Use SHAP global explanation techniques to visualize and discuss the influence of different features.\n",
    "- Evaluate the XGBoost’s accuracy and compare it to the Decision Tree"
   ],
   "id": "cb3afb52034965f9"
  },
  {
   "metadata": {},
   "cell_type": "code",
   "source": "",
   "id": "bf12497641e62b54",
   "outputs": [],
   "execution_count": null
  },
  {
   "metadata": {},
   "cell_type": "markdown",
   "source": [
    "## 4. Combined Model\n",
    "Put all components into a single model artifact for deployment such that clinic personal has all important\n",
    "information at hand to make an informed decision.\n",
    "- Combine the XGBoost, Decision Tree and Anomaly Detection in a single model class including all necessary methods (fit,\n",
    "predict…). The Decision Tree provides an explainable assistance for the hospital personal and the XGBoost (probably) a more\n",
    "accurate classification. The Anomaly Detection increases the robustness of the model for conditions that have not been\n",
    "explicitly trained or for human errors. Generate a few test anomalies to check your detection.\n",
    "- Evaluate, discuss and plot the performance of your combined model."
   ],
   "id": "ae4e4bb54a7a19c2"
  },
  {
   "metadata": {},
   "cell_type": "code",
   "source": "",
   "id": "6aa0fc87d41c2136",
   "outputs": [],
   "execution_count": null
  }
 ],
 "metadata": {
  "kernelspec": {
   "display_name": "Python 3",
   "language": "python",
   "name": "python3"
  },
  "language_info": {
   "codemirror_mode": {
    "name": "ipython",
    "version": 2
   },
   "file_extension": ".py",
   "mimetype": "text/x-python",
   "name": "python",
   "nbconvert_exporter": "python",
   "pygments_lexer": "ipython2",
   "version": "2.7.6"
  }
 },
 "nbformat": 4,
 "nbformat_minor": 5
}
